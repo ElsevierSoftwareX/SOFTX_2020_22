{
 "cells": [
  {
   "cell_type": "markdown",
   "metadata": {},
   "source": [
    "# Examples on Using MOIRA\n",
    "---\n",
    "__Mokbel Karam, James C. Sutherland and Tony Saad__\n",
    "\n",
    "__Department of Chemical Engineering, University of Utah__\n",
    "\n",
    "Below are the necessary libraries used in the examples below."
   ]
  },
  {
   "cell_type": "code",
   "execution_count": 1,
   "metadata": {
    "init_cell": true
   },
   "outputs": [],
   "source": [
    "# %config InlineBackend.figure_format = 'svg'\n",
    "import matplotlib.pyplot as plt\n",
    "# plt.rcParams['figure.figsize'] = [3.5, 4]\n",
    "plt.rc(\"font\", family='serif')\n",
    "# plt.rc('text', usetex=True)\n",
    "import numpy as np\n",
    "from sympy import symbols, pretty_print\n",
    "from IPython.display import display, Math, clear_output\n",
    "from matplotlib import cm, animation"
   ]
  },
  {
   "cell_type": "markdown",
   "metadata": {},
   "source": [
    "##  Example Using FTUS on Advection PDE (1D)\n",
    "---"
   ]
  },
  {
   "cell_type": "markdown",
   "metadata": {},
   "source": [
    "Consider the following PDE\n",
    "\\begin{equation}\n",
    "u_t=-a u_x ; a>0\n",
    "\\end{equation}\n",
    "to be solved using forward Euler discretization in time and upwind discretization in space(FTUS). The difference equation is\n",
    "\\begin{equation}\n",
    "\\frac{u_{i}^{n+1}-u_{i}^{n}}{\\Delta t}=-a\\left(\\frac{u_{i}^{n}-u_{i-1}^{n}}{\\Delta x}\\right).\n",
    "\\end{equation}"
   ]
  },
  {
   "cell_type": "code",
   "execution_count": 2,
   "metadata": {
    "init_cell": true
   },
   "outputs": [
    {
     "data": {
      "text/latex": [
       "$$\\frac{\\partial u }{\\partial t}  =  - a \\frac{\\partial u }{\\partial x}  + \\frac{a}{2} \\left(- \\Delta x + \\Delta{t} a\\right) \\frac{\\partial^{2} u }{\\partial x^{2}}   + \\frac{a}{6} \\left(- \\Delta x^{2} + 3 \\Delta x \\Delta{t} a - 2 \\Delta{t}^{2} a^{2}\\right) \\frac{\\partial^{3} u }{\\partial x^{3}}  $$"
      ],
      "text/plain": [
       "<IPython.core.display.Math object>"
      ]
     },
     "metadata": {},
     "output_type": "display_data"
    }
   ],
   "source": [
    "from src.MOIRA import DifferentialEquation, i, k, n # import the differential equation and the indicies we need to use\n",
    "\n",
    "a= symbols('a') # define positive a constant for the advection velocity\n",
    "\n",
    "DE1 = DifferentialEquation(dependentVar='u',independentVars=['x'],indices=[k]) # construct a one D differential equation with 'x' and 'u' as independent and dependent variables, respectively\n",
    "\n",
    "# method I of constructing the rhs:\n",
    "advectionTerm1 = DE1.expr(order=1, direction='x', time=n+1, stencil=[1, 0]) # construct the first upwind derivative of the dependent variabe 'u' \n",
    "                                                                        # with respect to the independent variable 'x' using the stencil -1, and 0 evaluated at time tn = n\n",
    "\n",
    "# set the rhs of the differential equation\n",
    "DE1.set_rhs(- a * advectionTerm1 )\n",
    "\n",
    "# compute the modified equation up to two terms\n",
    "DE1.modified_equation(nterms=3)\n",
    "\n",
    "# display the modified equation in latex form\n",
    "display(Math(DE1.latex()))"
   ]
  },
  {
   "cell_type": "code",
   "execution_count": 3,
   "metadata": {
    "init_cell": true
   },
   "outputs": [
    {
     "data": {
      "text/latex": [

       "$$\\frac{\\partial f }{\\partial t}  =  - b \\frac{\\partial f }{\\partial y}  + \\frac{b}{2} \\left(\\Delta y - \\Delta{t} b\\right) \\frac{\\partial^{2} f }{\\partial y^{2}}  $$"
      ],
      "text/plain": [
       "<IPython.core.display.Math object>"
      ]
     },
     "metadata": {},
     "output_type": "display_data"
    }
   ],
   "source": [
    "from src.MOIRA import DifferentialEquation, j, n # import the differential equation and the indicies we need to use\n",
    "\n",
    "b = symbols('b') # define positive a constant for the advection velocity\n",
    "\n",
    "DE2 = DifferentialEquation(dependentVar='f',independentVars=['y'], indices=[j])# construct the first upwind derivative of the dependent variabe 'f' \n",
    "                                                                        # with respect to the independent variable 'y' using the stencil -1, and 0 evaluated at time tn = n\n",
    "    \n",
    "\n",
    "# method II of constructing the rhs:\n",
    "advectionTerm2 = (DE2.f(time=n, y=j) - DE2.f(time=n, y = j-1)) / DE2.dy \n",
    "    \n",
    "DE2.set_rhs(- b * advectionTerm2 ) # set the rhs of the Differential equation DE\n",
    "\n",
    "DE2.modified_equation(nterms=3)  # compute the modified equation up to 2 terms\n",
    "\n",
    "display(Math(DE2.latex())) # display the latex form of the modified equation"
   ]
  },
  {
   "cell_type": "markdown",
   "metadata": {},
   "source": [
    "## Example Using BTCS on Advection-Diffusion PDEs (1D)\n",
    "---"
   ]
  },
  {
   "cell_type": "markdown",
   "metadata": {},
   "source": [
    "Consider the following PDE\n",
    "\\begin{equation}\n",
    "u_t=-cu_x+\\gamma u_{xx}\n",
    "\\end{equation} \n",
    "to be solved using backward Euler discretization in time and central discretization in space(BTCS). The difference equation is\n",
    "\\begin{equation}\n",
    "\\frac{u_{i}^{n+1}-u_{i}^{n}}{\\Delta t}=-c\\left(\\frac{u_{i+1}^{n+1}-u_{i-1}^{n+1}}{2\\Delta x}\\right)+ \\gamma \\left(\\frac{u_{i+1}^{n+1}-2u_i^{n+1}+u_{i-1}^{n+1}}{\\Delta x^2}\\right).\n",
    "\\end{equation}"
   ]
  },
  {
   "cell_type": "code",
   "execution_count": 4,
   "metadata": {
    "init_cell": true,
    "scrolled": false
   },
   "outputs": [
    {
     "data": {
      "text/latex": [
       "$$\\frac{\\partial u }{\\partial t}  =  - c \\frac{\\partial u }{\\partial x}  + \\left(\\frac{\\Delta{t} c^{2}}{2} + \\gamma\\right) \\frac{\\partial^{2} u }{\\partial x^{2}}   - c \\left(\\frac{\\Delta x^{2}}{6} + \\frac{\\Delta{t}^{2} c^{2}}{3} + \\Delta{t} \\gamma\\right) \\frac{\\partial^{3} u }{\\partial x^{3}}  $$"
      ],
      "text/plain": [
       "<IPython.core.display.Math object>"
      ]
     },
     "metadata": {},
     "output_type": "display_data"
    }
   ],
   "source": [
    "from src.MOIRA import DifferentialEquation, i, n # import the differential equation and the indicies we need to use\n",
    "\n",
    "c, g = symbols('c gamma') # define positive a constant for the advection velocity\n",
    "\n",
    "DE3 = DifferentialEquation(dependentVar='u',independentVars=['x'], indices=[i])# construct the first upwind derivative of the dependent variabe 'f' \n",
    "                                                                        # with respect to the independent variable 'y' using the stencil -1, and 0 evaluated at time tn = n\n",
    "    \n",
    "\n",
    "# method II of constructing the rhs:\n",
    "advectionTerm3 = (DE3.u(time=n+1, x=i+1) - DE3.u(time=n+1, x=i-1)) / DE3.dx /2\n",
    "\n",
    "diffusionTerm3 = (DE3.u(time=n+1, x=i+1) - 2* DE3.u(time=n+1, x=i) + DE3.u(time=n+1, x=i-1)) / DE3.dx / DE3.dx\n",
    "    \n",
    "DE3.set_rhs(- c * advectionTerm3 + g*diffusionTerm3 ) # set the rhs of the Differential equation DE\n",
    "\n",
    "DE3.modified_equation(nterms=3)  # compute the modified equation up to 2 terms\n",
    "\n",
    "display(Math(DE3.latex())) # display the latex form of the modified equation"
   ]
  },
  {
   "cell_type": "markdown",
   "metadata": {},
   "source": [
    "## Example Using FTUS on Advection PDEs (2D)\n",
    "---"
   ]
  },
  {
   "cell_type": "markdown",
   "metadata": {},
   "source": [
    "Consider the advection equation in a two dimensional space\n",
    "\\begin{equation}\n",
    "u_{t}=-bu_{x}-cu_{y};\\quad(b,c)\\in\\mathbb{R}^{+}\n",
    "\\end{equation}\n",
    "to be discretized using a forward Euler method in time and UPWIND in space (FTUS)\n",
    "\\begin{equation}\n",
    "\\frac{u_{i,j}^{n+1}-u_{i,j}^{n}}{\\Delta t}=-b\\frac{u_{i,j}^{n}-u_{i-1,j}^{n}}{\\Delta x}-c\\frac{u_{i,j}^{n}-u_{i,j-1}^{n}}{\\Delta y},\n",
    "\\end{equation}"
   ]
  },
  {
   "cell_type": "markdown",
   "metadata": {},
   "source": [
    "with a modified equation "
   ]
  },
  {
   "cell_type": "code",
   "execution_count": 5,
   "metadata": {
    "init_cell": true
   },
   "outputs": [
    {
     "data": {
      "text/latex": [
       "$$\\frac{\\partial u }{\\partial t}  =  - c \\frac{\\partial u }{\\partial y}  - b \\frac{\\partial u }{\\partial x}  + \\frac{c}{2} \\left(\\Delta y - \\Delta{t} c\\right) \\frac{\\partial^{2} u }{\\partial y^{2}}   - \\Delta{t} b c \\frac{\\partial^{2} u }{\\partial x\\partial y}   + \\frac{b}{2} \\left(\\Delta x - \\Delta{t} b\\right) \\frac{\\partial^{2} u }{\\partial x^{2}}  $$"
      ],
      "text/plain": [
       "<IPython.core.display.Math object>"
      ]
     },
     "metadata": {},
     "output_type": "display_data"
    }
   ],
   "source": [
    "from src.MOIRA import DifferentialEquation, i, n # import the differential equation and the indicies we need to use\n",
    "\n",
    "b, c= symbols('b c') # define positive a constant for the advection velocity\n",
    "\n",
    "DE1 = DifferentialEquation(dependentVar='u',independentVars=['x','y']) # construct a one D differential equation with 'x' and 'u' as independent and dependent variables, respectively\n",
    "\n",
    "# method I of constructing the rhs:\n",
    "advectionTerm1 = - b * DE1.expr(order=1, direction='x', time=n, stencil=[-1, 0])  - c * DE1.expr(order=1, direction='y', time=n, stencil=[-1, 0])\n",
    "\n",
    "# set the rhs of the differential equation\n",
    "DE1.set_rhs( advectionTerm1 )\n",
    "\n",
    "# compute the modified equation up to two terms\n",
    "DE1.modified_equation(nterms=2)\n",
    "\n",
    "# display the modified equation in latex form\n",
    "display(Math(DE1.latex()))"
   ]
  },
  {
   "cell_type": "markdown",
   "metadata": {},
   "source": [
    "### Numerical Solution"
   ]
  },
  {
   "cell_type": "code",
   "execution_count": 6,
   "metadata": {
    "init_cell": true
   },
   "outputs": [],
   "source": [
    "nx = 64\n",
    "ny = 64\n",
    "Lx = 1.0\n",
    "Ly = 1.0\n",
    "x = np.linspace(0,Lx,nx)\n",
    "y = np.linspace(0,Ly,ny)\n",
    "dx = Lx/(nx-1)\n",
    "dy = Ly/(ny-1)\n",
    "# create a grid of coordinates\n",
    "xx,yy = np.meshgrid(x,y)\n",
    "\n",
    "u0 = lambda x,y : np.exp(-(x-0.2)**2/0.01)*np.exp(-(y-0.2)**2/0.01)\n",
    "\n",
    "cx = 1.0\n",
    "cy = 1.0\n",
    "\n",
    "dt = 1/128\n",
    "tend = 0.5 #s\n",
    "t = 0\n",
    "\n",
    "cflx = cx * dt/dx\n",
    "cfly = cy * dt/dy\n",
    "\n",
    "# setup the initial condition\n",
    "sol = []\n",
    "u = np.zeros([ny+2,nx+2]) # we will ghost cells to simplify the implementation of periodic BCs\n",
    "u[1:-1, 1:-1] = u0(xx,yy)\n",
    "# set periodic boundaries\n",
    "u[:,0] = u[:,-3] #x-minus face\n",
    "u[:,-1] = u[:,2] #x-plus face\n",
    "u[0,:] = u[-3,:] #y-minus face\n",
    "u[-1,:] = u[2,:] #y-plus face\n",
    "sol.append(u)"
   ]
  },
  {
   "cell_type": "code",
   "execution_count": 7,
   "metadata": {
    "init_cell": true
   },
   "outputs": [],
   "source": [
    "while t < tend:\n",
    "    un = sol[-1]\n",
    "    unew = un.copy()\n",
    "    unew[1:-1,1:-1] = un[1:-1,1:-1] - cflx * (un[1:-1,1:-1] - un[1:-1,:-2]) - cfly * (un[1:-1,1:-1] - un[:-2,1:-1])\n",
    "    # set periodic boundaries\n",
    "    unew[:,0] = unew[:,-3] #x-minus face\n",
    "    unew[:,-1] = unew[:,2] #x-plus face\n",
    "    unew[0,:] = unew[-3,:] #y-minus face\n",
    "    unew[-1,:] = unew[2,:] #y-plus face\n",
    "\n",
    "    sol.append(unew)\n",
    "    t += dt"
   ]
  },
  {
   "cell_type": "code",
   "execution_count": 8,
   "metadata": {
    "init_cell": true,
    "scrolled": false
   },
   "outputs": [
    {
     "data": {
      "image/png": "[encoded data removed]",
      "text/plain": [
       "<matplotlib.figure.Figure at 0x10a014518>"
      ]
     },
     "metadata": {},
     "output_type": "display_data"
    }
   ],
   "source": [
    "levs = np.linspace(-1,1,20)\n",
    "plt.figure(figsize=(10,8))\n",
    "plt.contourf(xx,yy,sol[-1][1:-1,1:-1]+sol[0][1:-1,1:-1],cmap=cm.jet,levels=levs,vmax=1.0,vmin=-1.0)\n",
    "plt.text(0.1, 0.4, 'time=0.0s', fontsize=12)\n",
    "plt.text(0.6, 0.92,'time={}s'.format(tend), fontsize=12)\n",
    "plt.xlabel('x', fontsize=14)\n",
    "plt.ylabel('y', fontsize=14)\n",
    "cbar = plt.colorbar()\n",
    "plt.clim(-1,1)\n",
    "cbar.set_ticks(np.linspace(-1,1,5))\n",
    "# plt.savefig('./advection_2d.pdf',transparent=True)\n",
    "plt.show()"
   ]
  },
  {
   "cell_type": "markdown",
   "metadata": {},
   "source": [
    "## Numerical Solver\n",
    "---"
   ]
  },
  {
   "cell_type": "code",
   "execution_count": 9,
   "metadata": {
    "init_cell": true,
    "scrolled": false
   },
   "outputs": [
    {
     "data": {
      "application/vnd.jupyter.widget-view+json": {
       "model_id": "7829963b57c9498ba58324cc36921671",
       "version_major": 2,
       "version_minor": 0
      },
      "text/plain": [
       "Tab(children=(VBox(children=(HBox(children=(FloatText(value=0.01, description='dt:'), FloatText(value=10.0, de…"
      ]
     },
     "metadata": {},
     "output_type": "display_data"
    }
   ],
   "source": [
    "%matplotlib notebook\n",
    "from numerical.layout import *\n",
    "plty=PlotStyling()"
   ]
  }
 ],
 "metadata": {
  "kernelspec": {
   "display_name": "Python 3",
   "language": "python",
   "name": "python3"
  },
  "language_info": {
   "codemirror_mode": {
    "name": "ipython",
    "version": 3
   },
   "file_extension": ".py",
   "mimetype": "text/x-python",
   "name": "python",
   "nbconvert_exporter": "python",
   "pygments_lexer": "ipython3",
   "version": "3.6.8"
  },
  "toc": {
   "colors": {
    "hover_highlight": "#DAA520",
    "navigate_num": "#000000",
    "navigate_text": "#333333",
    "running_highlight": "#FF0000",
    "selected_highlight": "#FFD700",
    "sidebar_border": "#EEEEEE",
    "wrapper_background": "#FFFFFF"
   },
   "moveMenuLeft": true,
   "nav_menu": {
    "height": "63px",
    "width": "252px"
   },
   "navigate_menu": true,
   "number_sections": true,
   "sideBar": true,
   "threshold": 4,
   "toc_cell": false,
   "toc_section_display": "block",
   "toc_window_display": false,
   "widenNotebook": false
  },
  "varInspector": {
   "cols": {
    "lenName": 16,
    "lenType": 16,
    "lenVar": 40
   },
   "kernels_config": {
    "python": {
     "delete_cmd_postfix": "",
     "delete_cmd_prefix": "del ",
     "library": "var_list.py",
     "varRefreshCmd": "print(var_dic_list())"
    },
    "r": {
     "delete_cmd_postfix": ") ",
     "delete_cmd_prefix": "rm(",
     "library": "var_list.r",
     "varRefreshCmd": "cat(var_dic_list()) "
    }
   },
   "types_to_exclude": [
    "module",
    "function",
    "builtin_function_or_method",
    "instance",
    "_Feature"
   ],
   "window_display": false
  }
 },
 "nbformat": 4,
 "nbformat_minor": 2
}
